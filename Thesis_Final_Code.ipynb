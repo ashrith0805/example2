{
 "cells": [
  {
   "cell_type": "code",
   "execution_count": 1,
   "id": "5761bfef",
   "metadata": {},
   "outputs": [
    {
     "name": "stderr",
     "output_type": "stream",
     "text": [
      "/Users/arunpasricha/anaconda3/lib/python3.11/site-packages/pandas/core/arrays/masked.py:60: UserWarning: Pandas requires version '1.3.6' or newer of 'bottleneck' (version '1.3.5' currently installed).\n",
      "  from pandas.core import (\n"
     ]
    }
   ],
   "source": [
    "import pandas as pd\n",
    "import numpy as np\n",
    "import matplotlib.pyplot as plt\n",
    "import seaborn as sns\n",
    "from sklearn.model_selection import train_test_split\n",
    "from sklearn.ensemble import RandomForestClassifier\n",
    "from sklearn.metrics import classification_report\n",
    "from sklearn.preprocessing import StandardScaler\n",
    "from datetime import timedelta"
   ]
  },
  {
   "cell_type": "code",
   "execution_count": null,
   "id": "7d9f25b2",
   "metadata": {},
   "outputs": [],
   "source": [
    "\n",
    "\n",
    "file_path = 'Signals_2017.xlsx'\n",
    "data = pd.read_excel(file_path, sheet_name='Signals_2017')  # Adjust nrows as needed\n",
    "print(data.columns)\n",
    "\n"
   ]
  },
  {
   "cell_type": "code",
   "execution_count": null,
   "id": "c908109f",
   "metadata": {},
   "outputs": [],
   "source": []
  },
  {
   "cell_type": "code",
   "execution_count": null,
   "id": "8133d74c",
   "metadata": {},
   "outputs": [],
   "source": []
  },
  {
   "cell_type": "code",
   "execution_count": null,
   "id": "6306d31b",
   "metadata": {},
   "outputs": [],
   "source": [
    "\n",
    "# Display basic information about the DataFrame\n",
    "print(data.info())\n"
   ]
  },
  {
   "cell_type": "code",
   "execution_count": null,
   "id": "be683334",
   "metadata": {},
   "outputs": [],
   "source": [
    "# Check for missing values\n",
    "print(data.isnull().sum())"
   ]
  },
  {
   "cell_type": "code",
   "execution_count": null,
   "id": "494c54a1",
   "metadata": {},
   "outputs": [],
   "source": [
    "import matplotlib.pyplot as plt\n",
    "\n",
    "# Plot Gen_RPM_Avg over time\n",
    "plt.figure(figsize=(12, 6))\n",
    "plt.plot(data['Timestamp'], data['Gen_RPM_Avg'], label='Gen_RPM_Avg')\n",
    "plt.xlabel('Timestamp')\n",
    "plt.ylabel('Gen_RPM_Avg')\n",
    "plt.title('Generator RPM Average Over Time')\n",
    "plt.legend()\n",
    "plt.show()\n",
    "\n",
    "# Plot Gen_Bear_Temp_Avg over time\n",
    "plt.figure(figsize=(12, 6))\n",
    "plt.plot(data['Timestamp'], data['Gen_Bear_Temp_Avg'], label='Gen_Bear_Temp_Avg', color='orange')\n",
    "plt.xlabel('Timestamp')\n",
    "plt.ylabel('Gen_Bear_Temp_Avg')\n",
    "plt.title('Generator Bearing Temperature Average Over Time')\n",
    "plt.legend()\n",
    "plt.show()\n"
   ]
  },
  {
   "cell_type": "code",
   "execution_count": 5,
   "id": "41ac4950",
   "metadata": {},
   "outputs": [],
   "source": [
    "#co-relation anlaysis"
   ]
  },
  {
   "cell_type": "code",
   "execution_count": null,
   "id": "adadf903",
   "metadata": {},
   "outputs": [],
   "source": [
    "import seaborn as sns\n",
    "import matplotlib.pyplot as plt\n",
    "\n",
    "# Exclude non-numeric columns\n",
    "numeric_data = data.select_dtypes(include=[float, int])\n",
    "\n",
    "# Compute the correlation matrix\n",
    "corr_matrix = numeric_data.corr()\n",
    "\n",
    "# Plot the heatmap of the correlation matrix\n",
    "plt.figure(figsize=(16, 12))\n",
    "sns.heatmap(corr_matrix, annot=False, cmap='coolwarm', linewidths=0.5)\n",
    "plt.title('Correlation Matrix')\n",
    "plt.show()\n"
   ]
  },
  {
   "cell_type": "code",
   "execution_count": null,
   "id": "69fcbcb8",
   "metadata": {},
   "outputs": [],
   "source": [
    "# Feature Engineering: Create rolling statistics and lag features\n",
    "\n",
    "# Example: Create rolling mean and standard deviation for Gen_RPM_Avg\n",
    "data['Gen_RPM_Avg_RollingMean'] = data['Gen_RPM_Avg'].rolling(window=6).mean()\n",
    "data['Gen_RPM_Avg_RollingStd'] = data['Gen_RPM_Avg'].rolling(window=6).std()\n",
    "\n",
    "# Example: Create lagged features for Gen_RPM_Avg\n",
    "data['Gen_RPM_Avg_Lag1'] = data['Gen_RPM_Avg'].shift(1)\n",
    "data['Gen_RPM_Avg_Lag2'] = data['Gen_RPM_Avg'].shift(2)\n",
    "\n",
    "# Fill any remaining missing values\n",
    "data.fillna(method='ffill', inplace=True)\n",
    "\n",
    "# Display the first few rows of the DataFrame after feature engineering\n",
    "print(data.head(15))\n"
   ]
  },
  {
   "cell_type": "code",
   "execution_count": 10,
   "id": "ca378a08",
   "metadata": {},
   "outputs": [],
   "source": [
    "#identifying major parts"
   ]
  },
  {
   "cell_type": "code",
   "execution_count": null,
   "id": "8988cfa2",
   "metadata": {},
   "outputs": [],
   "source": []
  },
  {
   "cell_type": "code",
   "execution_count": null,
   "id": "fc101191",
   "metadata": {},
   "outputs": [],
   "source": [
    "# Group columns by major parts\n",
    "parts = {\n",
    "    'generator': [\n",
    "        'Gen_RPM_Max', 'Gen_RPM_Min', 'Gen_RPM_Avg', 'Gen_RPM_Std',\n",
    "        'Gen_Bear_Temp_Avg', 'Gen_Phase1_Temp_Avg', 'Gen_Phase2_Temp_Avg', 'Gen_Phase3_Temp_Avg',\n",
    "        'Gen_SlipRing_Temp_Avg'\n",
    "    ],\n",
    "    'gearbox': [\n",
    "        'Gear_Oil_Temp_Avg', 'Gear_Bear_Temp_Avg'\n",
    "    ],\n",
    "    'nacelle': [\n",
    "        'Nac_Temp_Avg', 'Nac_Direction_Avg'\n",
    "    ],\n",
    "    'rotor': [\n",
    "        'Rtr_RPM_Max', 'Rtr_RPM_Min', 'Rtr_RPM_Avg', 'Rtr_RPM_Std'\n",
    "    ],\n",
    "    'ambient': [\n",
    "        'Amb_WindSpeed_Max', 'Amb_WindSpeed_Min', 'Amb_WindSpeed_Avg', 'Amb_WindSpeed_Std',\n",
    "        'Amb_WindDir_Relative_Avg', 'Amb_WindDir_Abs_Avg', 'Amb_Temp_Avg'\n",
    "    ]\n",
    "}\n",
    "\n",
    "# Display categorized parts\n",
    "for part, sensors in parts.items():\n",
    "    print(f\"{part.capitalize()} Sensors: {sensors}\")\n"
   ]
  },
  {
   "cell_type": "code",
   "execution_count": 32,
   "id": "0267b887",
   "metadata": {},
   "outputs": [],
   "source": [
    "#Implementing Step 2: Predict Maintenance Needs"
   ]
  },
  {
   "cell_type": "code",
   "execution_count": null,
   "id": "a551d2a3",
   "metadata": {},
   "outputs": [],
   "source": [
    "# Feature Engineering: Create rolling statistics and lag features for generator as an example\n",
    "data['Gen_RPM_Avg_RollingMean'] = data['Gen_RPM_Avg'].rolling(window=6).mean()\n",
    "data['Gen_RPM_Avg_RollingStd'] = data['Gen_RPM_Avg'].rolling(window=6).std()\n",
    "data['Gen_Bear_Temp_Avg_RollingMean'] = data['Gen_Bear_Temp_Avg'].rolling(window=6).mean()\n",
    "data['Gen_Bear_Temp_Avg_RollingStd'] = data['Gen_Bear_Temp_Avg'].rolling(window=6).std()\n",
    "\n",
    "# Lag features\n",
    "data['Gen_RPM_Avg_Lag1'] = data['Gen_RPM_Avg'].shift(1)\n",
    "data['Gen_RPM_Avg_Lag2'] = data['Gen_RPM_Avg'].shift(2)\n",
    "data['Gen_Bear_Temp_Avg_Lag1'] = data['Gen_Bear_Temp_Avg'].shift(1)\n",
    "data['Gen_Bear_Temp_Avg_Lag2'] = data['Gen_Bear_Temp_Avg'].shift(2)\n",
    "\n",
    "# Fill any remaining missing values\n",
    "data.fillna(method='ffill', inplace=True)\n",
    "\n",
    "# Display the first few rows of the DataFrame after feature engineering\n",
    "print(data.head(15))\n"
   ]
  },
  {
   "cell_type": "markdown",
   "id": "7defe51a",
   "metadata": {},
   "source": [
    "Let's use the column Prod_LatestAvg_TotActPwr (assuming it represents the total actual power generated) to identify outage points and create RUL labels based on this data. We'll find the lowest points in a specified window and assume those as outage points. Then, we'll create RUL labels by counting the number of time steps until the next outage.\n",
    "\n",
    "Steps to Create RUL Labels Based on Outage Points\n",
    "Identify Outage Points: Find the timestamps where the production power is the lowest within a rolling window.\n",
    "Create RUL Labels: For each timestamp, calculate the RUL as the number of time steps until the next outage point.\n",
    "Step 1: Identify Outage Points\n",
    "\n",
    "We will define an outage point as the minimum value of Prod_LatestAvg_TotActPwr within a rolling window of a specified size (e.g., 100 time steps).\n",
    "\n",
    "Step 2: Create RUL Labels\n",
    "\n",
    "Using the identified outage points, we will create RUL labels.\n",
    "\n",
    "Here's the code to achieve this:"
   ]
  },
  {
   "cell_type": "code",
   "execution_count": null,
   "id": "fe0d642c",
   "metadata": {},
   "outputs": [],
   "source": [
    "from sklearn.model_selection import train_test_split\n",
    "from sklearn.ensemble import RandomForestRegressor\n",
    "from sklearn.metrics import mean_squared_error\n",
    "\n",
    "# Example feature and target for generator RUL prediction\n",
    "features = [\n",
    "    'Gen_RPM_Avg', 'Gen_RPM_Std', 'Gen_RPM_Avg_RollingMean', \n",
    "    'Gen_RPM_Avg_RollingStd', 'Gen_RPM_Avg_Lag1', 'Gen_RPM_Avg_Lag2',\n",
    "    'Gen_Bear_Temp_Avg', 'Gen_Bear_Temp_Avg_RollingMean', \n",
    "    'Gen_Bear_Temp_Avg_RollingStd', 'Gen_Bear_Temp_Avg_Lag1', 'Gen_Bear_Temp_Avg_Lag2'\n",
    "]\n",
    "\n",
    "# Placeholder target variable for demonstration purposes\n",
    "# You should replace this with the actual RUL data\n",
    "data['RUL_Generator'] = 1000 - (data.index % 1000)  # Dummy data for RUL\n",
    "\n",
    "target = 'RUL_Generator'  # Assume RUL_Generator is a column indicating the remaining useful life of the generator\n",
    "\n",
    "# Split the data into training and testing sets\n",
    "X = data[features]\n",
    "y = data[target]\n",
    "X_train, X_test, y_train, y_test = train_test_split(X, y, test_size=0.2, random_state=42)\n",
    "\n",
    "# Train the model\n",
    "model = RandomForestRegressor(n_estimators=100, random_state=42)\n",
    "model.fit(X_train, y_train)\n",
    "\n",
    "# Predict and evaluate\n",
    "y_pred = model.predict(X_test)\n",
    "mse = mean_squared_error(y_test, y_pred)\n",
    "print(f\"Mean Squared Error: {mse}\")\n"
   ]
  },
  {
   "cell_type": "code",
   "execution_count": null,
   "id": "0b617719",
   "metadata": {},
   "outputs": [],
   "source": [
    "import numpy as np\n",
    "import pandas as pd\n",
    "\n",
    "# Convert 'Timestamp' to datetime\n",
    "data['Timestamp'] = pd.to_datetime(data['Timestamp'])\n",
    "\n",
    "# Define the window size for detecting outage points\n",
    "window_size = 100\n",
    "\n",
    "# Identify outage points\n",
    "data['is_outage'] = data['Prod_LatestAvg_TotActPwr'].rolling(window=window_size, center=True).apply(lambda x: x.min() == x[window_size // 2], raw=True)\n",
    "\n",
    "# Fill NaN values in 'is_outage' with False\n",
    "data['is_outage'].fillna(False, inplace=True)\n",
    "\n",
    "# Create RUL labels\n",
    "data['RUL'] = np.nan\n",
    "last_outage_index = None\n",
    "for i in range(len(data) - 1, -1, -1):\n",
    "    if data['is_outage'].iloc[i]:\n",
    "        last_outage_index = i\n",
    "    if last_outage_index is not None:\n",
    "        data['RUL'].iloc[i] = last_outage_index - i\n",
    "\n",
    "# Fill remaining NaN values in 'RUL' with a large number (assuming they are far from an outage)\n",
    "data['RUL'].fillna(len(data), inplace=True)\n",
    "\n",
    "# Display the first few rows to check the RUL label\n",
    "print(data[['Timestamp', 'Prod_LatestAvg_TotActPwr', 'is_outage', 'RUL']].head(20))\n",
    "\n",
    "# Plot RUL over time\n",
    "import matplotlib.pyplot as plt\n",
    "\n",
    "plt.figure(figsize=(12, 6))\n",
    "plt.plot(data['Timestamp'], data['RUL'], label='RUL')\n",
    "plt.xlabel('Timestamp')\n",
    "plt.ylabel('RUL')\n",
    "plt.title('Remaining Useful Life Based on Outage Points')\n",
    "plt.legend()\n",
    "plt.show()\n"
   ]
  },
  {
   "cell_type": "markdown",
   "id": "d315ba26",
   "metadata": {},
   "source": [
    "Explanation\n",
    "Rolling Window: We use a rolling window to identify outage points. The window size can be adjusted based on the desired sensitivity.\n",
    "RUL Calculation: For each timestamp, the RUL is calculated as the number of time steps until the next outage point.\n",
    "Handling NaN: NaN values are filled with a large number, assuming those points are far from an outage.\n",
    "By running this code, we identify the outage points and create RUL labels for the turbine data. Once you confirm that the RUL labels are correct, we can proceed with training the predictive model using these labels."
   ]
  },
  {
   "cell_type": "code",
   "execution_count": null,
   "id": "66e4c457",
   "metadata": {},
   "outputs": [],
   "source": [
    "import numpy as np\n",
    "import pandas as pd\n",
    "\n",
    "\n",
    "# Convert 'Timestamp' to datetime\n",
    "data['Timestamp'] = pd.to_datetime(data['Timestamp'])\n",
    "\n",
    "# Define the window size for detecting outage points\n",
    "window_size = 100\n",
    "\n",
    "# Identify outage points\n",
    "data['is_outage'] = data['Prod_LatestAvg_TotActPwr'].rolling(window=window_size, center=True).apply(lambda x: x.min() == x[window_size // 2], raw=True)\n",
    "\n",
    "# Fill NaN values in 'is_outage' with False\n",
    "data['is_outage'].fillna(False, inplace=True)\n",
    "\n",
    "# Create RUL labels\n",
    "data['RUL'] = np.nan\n",
    "last_outage_index = None\n",
    "for i in range(len(data) - 1, -1, -1):\n",
    "    if data['is_outage'].iloc[i]:\n",
    "        last_outage_index = i\n",
    "    if last_outage_index is not None:\n",
    "        data['RUL'].iloc[i] = last_outage_index - i\n",
    "\n",
    "# Fill remaining NaN values in 'RUL' with a large number (assuming they are far from an outage)\n",
    "data['RUL'].fillna(len(data), inplace=True)\n",
    "\n",
    "# Display the first few rows to check the RUL label\n",
    "print(data[['Timestamp', 'Prod_LatestAvg_TotActPwr', 'is_outage', 'RUL']].head(20))\n",
    "\n",
    "# Plot RUL over time\n",
    "import matplotlib.pyplot as plt\n",
    "\n",
    "plt.figure(figsize=(12, 6))\n",
    "plt.plot(data['Timestamp'], data['RUL'], label='RUL')\n",
    "plt.xlabel('Timestamp')\n",
    "plt.ylabel('RUL')\n",
    "plt.title('Remaining Useful Life Based on Outage Points')\n",
    "plt.legend()\n",
    "plt.show()\n"
   ]
  },
  {
   "cell_type": "code",
   "execution_count": null,
   "id": "aa9d6259",
   "metadata": {},
   "outputs": [],
   "source": []
  },
  {
   "cell_type": "code",
   "execution_count": null,
   "id": "93f0c4e7",
   "metadata": {},
   "outputs": [],
   "source": [
    "# Corrected syntax for printing rows where is_outage is True\n",
    "outage_data = data[data['is_outage'] == True][['Timestamp', 'Prod_LatestAvg_TotActPwr', 'is_outage', 'RUL']]\n",
    "print(outage_data)\n"
   ]
  },
  {
   "cell_type": "code",
   "execution_count": null,
   "id": "49b43bd3",
   "metadata": {},
   "outputs": [],
   "source": []
  },
  {
   "cell_type": "code",
   "execution_count": null,
   "id": "ac33d0e3",
   "metadata": {},
   "outputs": [],
   "source": []
  },
  {
   "cell_type": "code",
   "execution_count": null,
   "id": "d2cba62d",
   "metadata": {},
   "outputs": [],
   "source": [
    "import numpy as np\n",
    "import pandas as pd\n",
    "\n",
    "\n",
    "# Convert 'Timestamp' to datetime\n",
    "data['Timestamp'] = pd.to_datetime(data['Timestamp'])\n",
    "\n",
    "# Define the window size for detecting outage points\n",
    "window_size = 100\n",
    "power_threshold = 500  # Define an appropriate threshold based on domain knowledge\n",
    "\n",
    "# Identify outage points\n",
    "data['is_outage'] = (data['Prod_LatestAvg_TotActPwr'] < power_threshold) & \\\n",
    "                    (data['Prod_LatestAvg_TotActPwr'].rolling(window=window_size, center=True).apply(lambda x: x.min() == x[window_size // 2], raw=True))\n",
    "\n",
    "# Fill NaN values in 'is_outage' with False\n",
    "data['is_outage'].fillna(False, inplace=True)\n",
    "\n",
    "# Remove short outages by considering consecutive points\n",
    "data['is_outage'] = data['is_outage'] & (data['is_outage'].rolling(window=3, min_periods=1).sum() >= 2)\n",
    "\n",
    "# Create RUL labels\n",
    "data['RUL'] = np.nan\n",
    "last_outage_index = None\n",
    "for i in range(len(data) - 1, -1, -1):\n",
    "    if data['is_outage'].iloc[i]:\n",
    "        last_outage_index = i\n",
    "    if last_outage_index is not None:\n",
    "        data['RUL'].iloc[i] = last_outage_index - i\n",
    "\n",
    "# Fill remaining NaN values in 'RUL' with a large number (assuming they are far from an outage)\n",
    "data['RUL'].fillna(len(data), inplace=True)\n",
    "\n",
    "# Print rows where is_outage is True\n",
    "outage_data = data[data['is_outage'] == True][['Timestamp', 'Prod_LatestAvg_TotActPwr', 'is_outage', 'RUL']]\n",
    "print(outage_data)\n",
    "\n",
    "# Plot RUL over time\n",
    "import matplotlib.pyplot as plt\n",
    "\n",
    "plt.figure(figsize=(12, 6))\n",
    "plt.plot(data['Timestamp'], data['RUL'], label='RUL')\n",
    "plt.xlabel('Timestamp')\n",
    "plt.ylabel('RUL')\n",
    "plt.title('Remaining Useful Life Based on Outage Points')\n",
    "plt.legend()\n",
    "plt.show()\n"
   ]
  },
  {
   "cell_type": "code",
   "execution_count": null,
   "id": "ca5df791",
   "metadata": {},
   "outputs": [],
   "source": [
    "import numpy as np\n",
    "import pandas as pd\n",
    "\n",
    "\n",
    "# Convert 'Timestamp' to datetime\n",
    "data['Timestamp'] = pd.to_datetime(data['Timestamp'])\n",
    "\n",
    "# Define the window size for detecting outage points\n",
    "window_size = 50  # Adjusted window size\n",
    "power_threshold = 1000  # Adjusted threshold based on distribution analysis\n",
    "\n",
    "# Identify outage points\n",
    "data['is_outage'] = (data['Prod_LatestAvg_TotActPwr'] < power_threshold) & \\\n",
    "                    (data['Prod_LatestAvg_TotActPwr'].rolling(window=window_size, center=True).apply(lambda x: x.min() == x[window_size // 2], raw=True))\n",
    "\n",
    "# Fill NaN values in 'is_outage' with False\n",
    "data['is_outage'].fillna(False, inplace=True)\n",
    "\n",
    "# Remove short outages by considering consecutive points\n",
    "data['is_outage'] = data['is_outage'] & (data['is_outage'].rolling(window=3, min_periods=1).sum() >= 2)\n",
    "\n",
    "# Create RUL labels\n",
    "data['RUL'] = np.nan\n",
    "last_outage_index = None\n",
    "for i in range(len(data) - 1, -1, -1):\n",
    "    if data['is_outage'].iloc[i]:\n",
    "        last_outage_index = i\n",
    "    if last_outage_index is not None:\n",
    "        data['RUL'].iloc[i] = last_outage_index - i\n",
    "\n",
    "# Fill remaining NaN values in 'RUL' with a large number (assuming they are far from an outage)\n",
    "data['RUL'].fillna(len(data), inplace=True)\n",
    "\n",
    "# Print rows where is_outage is True\n",
    "outage_data = data[data['is_outage'] == True][['Timestamp', 'Prod_LatestAvg_TotActPwr', 'is_outage', 'RUL']]\n",
    "print(outage_data)\n",
    "\n",
    "# Plot RUL over time\n",
    "plt.figure(figsize=(12, 6))\n",
    "plt.plot(data['Timestamp'], data['RUL'], label='RUL')\n",
    "plt.xlabel('Timestamp')\n",
    "plt.ylabel('RUL')\n",
    "plt.title('Remaining Useful Life Based on Outage Points')\n",
    "plt.legend()\n",
    "plt.show()\n"
   ]
  },
  {
   "cell_type": "code",
   "execution_count": null,
   "id": "6ef319ca",
   "metadata": {},
   "outputs": [],
   "source": []
  },
  {
   "cell_type": "code",
   "execution_count": null,
   "id": "623bedae",
   "metadata": {},
   "outputs": [],
   "source": [
    "########"
   ]
  },
  {
   "cell_type": "code",
   "execution_count": null,
   "id": "2dea509c",
   "metadata": {},
   "outputs": [],
   "source": [
    "import pandas as pd\n",
    "\n",
    "# Load the data from the Excel file\n",
    "file_path_2016 = 'Signals_2016.xlsx'\n",
    "file_path_2017 = 'Signals_2017.xlsx'\n",
    "\n",
    "data_2016 = pd.read_excel(file_path_2016, sheet_name='Signals_2016')\n",
    "data_2017 = pd.read_excel(file_path_2017, sheet_name='Signals_2017')\n",
    "\n",
    "# Convert 'Timestamp' to datetime\n",
    "data_2016['Timestamp'] = pd.to_datetime(data_2016['Timestamp'])\n",
    "data_2017['Timestamp'] = pd.to_datetime(data_2017['Timestamp'])\n",
    "\n",
    "# Display the first few rows to verify\n",
    "print(data_2016.head())\n",
    "print(data_2017.head())"
   ]
  },
  {
   "cell_type": "code",
   "execution_count": null,
   "id": "2bfdf259",
   "metadata": {},
   "outputs": [],
   "source": [
    "data_2016['Turbine_ID'].value_counts()"
   ]
  },
  {
   "cell_type": "code",
   "execution_count": null,
   "id": "ad9558e2",
   "metadata": {},
   "outputs": [],
   "source": [
    "data_2017['Turbine_ID'].value_counts()"
   ]
  },
  {
   "cell_type": "code",
   "execution_count": 41,
   "id": "387a3764",
   "metadata": {},
   "outputs": [
    {
     "name": "stdout",
     "output_type": "stream",
     "text": [
      "32769\n"
     ]
    }
   ],
   "source": [
    "# Extract unique turbine IDs\n",
    "turbine_ids = data_2016['Turbine_ID'].unique()\n",
    "\n",
    "# Create a dictionary to hold combined DataFrames for each turbine\n",
    "combined_data = {}\n",
    "\n",
    "# Combine data for each turbine\n",
    "for turbine_id in turbine_ids:\n",
    "    df_2016 = data_2016[data_2016['Turbine_ID'] == turbine_id].copy()\n",
    "    df_2017 = data_2017[data_2017['Turbine_ID'] == turbine_id].copy()\n",
    "    combined_df = pd.concat([df_2016, df_2017], ignore_index=True)\n",
    "    combined_data[turbine_id] = combined_df\n",
    "\n",
    "# Display the first few rows of the combined DataFrame for one turbine to verify\n",
    "print(len(combined_data['T01']))"
   ]
  },
  {
   "cell_type": "code",
   "execution_count": null,
   "id": "e12e730b",
   "metadata": {},
   "outputs": [],
   "source": [
    "combined_data"
   ]
  },
  {
   "cell_type": "code",
   "execution_count": null,
   "id": "a980b774",
   "metadata": {},
   "outputs": [],
   "source": [
    "def identify_outages(data, window_size=50, power_threshold=1000):\n",
    "    for turbine in data.keys():\n",
    "        df = data[turbine]\n",
    "        \n",
    "        # Identify outage points\n",
    "        df['is_outage'] = (df['Prod_LatestAvg_TotActPwr'] < power_threshold) & \\\n",
    "                          (df['Prod_LatestAvg_TotActPwr'].rolling(window=window_size, center=True).apply(lambda x: x.min() == x[window_size // 2], raw=True))\n",
    "\n",
    "        # Fill NaN values in 'is_outage' with False\n",
    "        df['is_outage'].fillna(False, inplace=True)\n",
    "\n",
    "        # Remove short outages by considering consecutive points\n",
    "        df['is_outage'] = df['is_outage'] & (df['is_outage'].rolling(window=3, min_periods=1).sum() >= 2)\n",
    "        \n",
    "        # Create RUL labels\n",
    "        df['RUL'] = np.nan\n",
    "        last_outage_index = None\n",
    "        for i in range(len(df) - 1, -1, -1):\n",
    "            if df['is_outage'].iloc[i]:\n",
    "                last_outage_index = i\n",
    "            if last_outage_index is not None:\n",
    "                df['RUL'].iloc[i] = last_outage_index - i\n",
    "\n",
    "        # Fill remaining NaN values in 'RUL' with a large number (assuming they are far from an outage)\n",
    "        df['RUL'].fillna(len(df), inplace=True)\n",
    "        \n",
    "        data[turbine] = df  # Update the data dictionary with the new columns\n",
    "\n",
    "# Identify outages and create RUL labels for the combined data\n",
    "identify_outages(combined_data)\n"
   ]
  },
  {
   "cell_type": "code",
   "execution_count": null,
   "id": "833e3e96",
   "metadata": {},
   "outputs": [],
   "source": [
    "import matplotlib.pyplot as plt\n",
    "\n",
    "# Example turbine to compare\n",
    "turbine_id = 'T01'\n",
    "\n",
    "# Plot RUL for the combined data\n",
    "plt.figure(figsize=(12, 6))\n",
    "plt.plot(combined_data[turbine_id]['Timestamp'], combined_data[turbine_id]['RUL'], label='RUL')\n",
    "plt.xlabel('Timestamp')\n",
    "plt.ylabel('RUL')\n",
    "plt.title(f'RUL for Turbine {turbine_id}')\n",
    "plt.legend()\n",
    "plt.show()\n",
    "\n",
    "# Print outage points for the turbine\n",
    "print(\"Outages:\")\n",
    "print(combined_data[turbine_id][combined_data[turbine_id]['is_outage'] == True][['Timestamp', 'Prod_LatestAvg_TotActPwr', 'is_outage', 'RUL']])\n"
   ]
  },
  {
   "cell_type": "code",
   "execution_count": null,
   "id": "9d24f77b",
   "metadata": {},
   "outputs": [],
   "source": []
  },
  {
   "cell_type": "markdown",
   "id": "0dcbcddf",
   "metadata": {},
   "source": [
    "To analyze and compare the RUL and outages for all turbines, we need to repeat the plotting and analysis for each turbine. Below is the code to do this for all turbines in your list:\n",
    "\n",
    "Step-by-Step Instructions\n",
    "Combine Data for Each Turbine: Combine the data for each turbine across both years.\n",
    "Identify Outages and Create RUL Labels: Apply the outage detection and RUL label creation for each turbine.\n",
    "Plot and Compare RUL for All Turbines: Plot the RUL over time for all turbines and print outage points."
   ]
  },
  {
   "cell_type": "code",
   "execution_count": null,
   "id": "2136e38b",
   "metadata": {
    "scrolled": true
   },
   "outputs": [],
   "source": [
    "# Define function to identify outages and create RUL labels\n",
    "def identify_outages(data, window_size=50, power_threshold=1000):\n",
    "    for turbine in data.keys():\n",
    "        df = data[turbine]\n",
    "        \n",
    "        # Identify outage points\n",
    "        df['is_outage'] = (df['Prod_LatestAvg_TotActPwr'] < power_threshold) & \\\n",
    "                          (df['Prod_LatestAvg_TotActPwr'].rolling(window=window_size, center=True).apply(lambda x: x.min() == x[window_size // 2], raw=True))\n",
    "\n",
    "        # Fill NaN values in 'is_outage' with False\n",
    "        df['is_outage'].fillna(False, inplace=True)\n",
    "\n",
    "        # Remove short outages by considering consecutive points\n",
    "        df['is_outage'] = df['is_outage'] & (df['is_outage'].rolling(window=3, min_periods=1).sum() >= 2)\n",
    "        \n",
    "        # Create RUL labels\n",
    "        df['RUL'] = np.nan\n",
    "        last_outage_index = None\n",
    "        for i in range(len(df) - 1, -1, -1):\n",
    "            if df['is_outage'].iloc[i]:\n",
    "                last_outage_index = i\n",
    "            if last_outage_index is not None:\n",
    "                df['RUL'].iloc[i] = last_outage_index - i\n",
    "\n",
    "        # Fill remaining NaN values in 'RUL' with a large number (assuming they are far from an outage)\n",
    "        df['RUL'].fillna(len(df), inplace=True)\n",
    "        \n",
    "        data[turbine] = df  # Update the data dictionary with the new columns\n",
    "\n",
    "# Identify outages and create RUL labels for the combined data\n",
    "identify_outages(combined_data)\n",
    "\n",
    "# Plot and compare RUL for all turbines\n",
    "plt.figure(figsize=(12, 6))\n",
    "for turbine_id in turbine_ids:\n",
    "    plt.plot(combined_data[turbine_id]['Timestamp'], combined_data[turbine_id]['RUL'], label=f'Turbine {turbine_id}')\n",
    "plt.xlabel('Timestamp')\n",
    "plt.ylabel('RUL')\n",
    "plt.title('RUL Comparison for All Turbines')\n",
    "plt.legend()\n",
    "plt.show()\n",
    "\n",
    "# Print outage points for all turbines\n",
    "for turbine_id in turbine_ids:\n",
    "    print(f\"Outages for Turbine {turbine_id}:\")\n",
    "    print(combined_data[turbine_id][combined_data[turbine_id]['is_outage'] == True][['Timestamp', 'Prod_LatestAvg_TotActPwr', 'is_outage', 'RUL']])\n",
    "    print()"
   ]
  },
  {
   "cell_type": "markdown",
   "id": "05c5187d",
   "metadata": {},
   "source": [
    "Explanation\n",
    "Combining Data: The data for each turbine from 2016 and 2017 is combined into a single DataFrame.\n",
    "Outage Detection and RUL Labels: Outage points are identified, and RUL labels are created for each turbine.\n",
    "Plotting and Comparison: The RUL is plotted over time for all turbines, and the outage points for each turbine are printed.\n",
    "This approach allows you to analyze and compare the RUL and outages for all turbines individually and collectively. Adjust the parameters and paths as needed to match your data and requirements. Let me know if you need further adjustments or additional analysis!"
   ]
  },
  {
   "cell_type": "markdown",
   "id": "d5f266d0",
   "metadata": {},
   "source": [
    "The identified outages and the fact that one turbine has no detected outages suggest that the parameters might need to be adjusted to better capture the outages. Let's fine-tune the parameters, specifically the window_size and power_threshold.\n",
    "\n",
    "Adjusting Parameters\n",
    "Window Size: A smaller or larger window size can help in better identifying the outage points.\n",
    "Power Threshold: Adjusting the threshold value to be more or less sensitive to power drops.\n",
    "Steps to Adjust Parameters\n",
    "Analyze the Distribution: Plot the distribution of Prod_LatestAvg_TotActPwr to understand suitable threshold values.\n",
    "Experiment with Parameters: Try different values for window_size and power_threshold.\n",
    "Step 1: Analyze the Distribution\n",
    "\n"
   ]
  },
  {
   "cell_type": "code",
   "execution_count": 48,
   "id": "139de6d4",
   "metadata": {},
   "outputs": [
    {
     "name": "stderr",
     "output_type": "stream",
     "text": [
      "/Users/arunpasricha/anaconda3/lib/python3.11/site-packages/seaborn/_oldcore.py:1119: FutureWarning: use_inf_as_na option is deprecated and will be removed in a future version. Convert inf values to NaN before operating instead.\n",
      "  with pd.option_context('mode.use_inf_as_na', True):\n"
     ]
    },
    {
     "data": {
      "image/png": "[encoded data removed]",
      "text/plain": [
       "<Figure size 1200x600 with 1 Axes>"
      ]
     },
     "metadata": {},
     "output_type": "display_data"
    },
    {
     "name": "stderr",
     "output_type": "stream",
     "text": [
      "/Users/arunpasricha/anaconda3/lib/python3.11/site-packages/seaborn/_oldcore.py:1119: FutureWarning: use_inf_as_na option is deprecated and will be removed in a future version. Convert inf values to NaN before operating instead.\n",
      "  with pd.option_context('mode.use_inf_as_na', True):\n"
     ]
    },
    {
     "data": {
      "image/png": "[encoded data removed]",
      "text/plain": [
       "<Figure size 1200x600 with 1 Axes>"
      ]
     },
     "metadata": {},
     "output_type": "display_data"
    },
    {
     "name": "stderr",
     "output_type": "stream",
     "text": [
      "/Users/arunpasricha/anaconda3/lib/python3.11/site-packages/seaborn/_oldcore.py:1119: FutureWarning: use_inf_as_na option is deprecated and will be removed in a future version. Convert inf values to NaN before operating instead.\n",
      "  with pd.option_context('mode.use_inf_as_na', True):\n"
     ]
    },
    {
     "data": {
      "image/png": "[encoded data removed]",
      "text/plain": [
       "<Figure size 1200x600 with 1 Axes>"
      ]
     },
     "metadata": {},
     "output_type": "display_data"
    },
    {
     "name": "stderr",
     "output_type": "stream",
     "text": [
      "/Users/arunpasricha/anaconda3/lib/python3.11/site-packages/seaborn/_oldcore.py:1119: FutureWarning: use_inf_as_na option is deprecated and will be removed in a future version. Convert inf values to NaN before operating instead.\n",
      "  with pd.option_context('mode.use_inf_as_na', True):\n"
     ]
    },
    {
     "data": {
      "image/png": "[encoded data removed]",
      "text/plain": [
       "<Figure size 1200x600 with 1 Axes>"
      ]
     },
     "metadata": {},
     "output_type": "display_data"
    }
   ],
   "source": [
    "import seaborn as sns\n",
    "import matplotlib.pyplot as plt\n",
    "\n",
    "# Plot the distribution of Prod_LatestAvg_TotActPwr for each turbine\n",
    "for turbine_id in turbine_ids:\n",
    "    plt.figure(figsize=(12, 6))\n",
    "    sns.histplot(combined_data[turbine_id]['Prod_LatestAvg_TotActPwr'], bins=50, kde=True)\n",
    "    plt.xlabel('Prod_LatestAvg_TotActPwr')\n",
    "    plt.ylabel('Frequency')\n",
    "    plt.title(f'Distribution of Production Power for Turbine {turbine_id}')\n",
    "    plt.show()\n"
   ]
  },
  {
   "cell_type": "markdown",
   "id": "607f3c3b",
   "metadata": {},
   "source": [
    "Step 2: Adjust Parameters and Re-evaluate\n",
    "\n",
    "Let's adjust the parameters based on the distribution and re-evaluate the outages:"
   ]
  },
  {
   "cell_type": "code",
   "execution_count": null,
   "id": "ede5781e",
   "metadata": {},
   "outputs": [],
   "source": [
    "def identify_outages(data, window_size=30, power_threshold=500):\n",
    "    for turbine in data.keys():\n",
    "        df = data[turbine]\n",
    "        \n",
    "        # Identify outage points\n",
    "        df['is_outage'] = (df['Prod_LatestAvg_TotActPwr'] < power_threshold) & \\\n",
    "                          (df['Prod_LatestAvg_TotActPwr'].rolling(window=window_size, center=True).apply(lambda x: x.min() == x[window_size // 2], raw=True))\n",
    "\n",
    "        # Fill NaN values in 'is_outage' with False\n",
    "        df['is_outage'].fillna(False, inplace=True)\n",
    "\n",
    "        # Remove short outages by considering consecutive points\n",
    "        df['is_outage'] = df['is_outage'] & (df['is_outage'].rolling(window=3, min_periods=1).sum() >= 2)\n",
    "        \n",
    "        # Create RUL labels\n",
    "        df['RUL'] = np.nan\n",
    "        last_outage_index = None\n",
    "        for i in range(len(df) - 1, -1, -1):\n",
    "            if df['is_outage'].iloc[i]:\n",
    "                last_outage_index = i\n",
    "            if last_outage_index is not None:\n",
    "                df['RUL'].iloc[i] = last_outage_index - i\n",
    "\n",
    "        # Fill remaining NaN values in 'RUL' with a large number (assuming they are far from an outage)\n",
    "        df['RUL'].fillna(len(df), inplace=True)\n",
    "        \n",
    "        data[turbine] = df  # Update the data dictionary with the new columns\n",
    "\n",
    "# Identify outages and create RUL labels for the combined data with adjusted parameters\n",
    "identify_outages(combined_data)\n",
    "\n",
    "# Plot and compare RUL for all turbines\n",
    "plt.figure(figsize=(12, 6))\n",
    "for turbine_id in turbine_ids:\n",
    "    plt.plot(combined_data[turbine_id]['Timestamp'], combined_data[turbine_id]['RUL'], label=f'Turbine {turbine_id}')\n",
    "plt.xlabel('Timestamp')\n",
    "plt.ylabel('RUL')\n",
    "plt.title('RUL Comparison for All Turbines')\n",
    "plt.legend()\n",
    "plt.show()\n",
    "\n",
    "# Print outage points for all turbines with adjusted parameters\n",
    "for turbine_id in turbine_ids:\n",
    "    print(f\"Outages for Turbine {turbine_id}:\")\n",
    "    print(combined_data[turbine_id][combined_data[turbine_id]['is_outage'] == True][['Timestamp', 'Prod_LatestAvg_TotActPwr', 'is_outage', 'RUL']])\n",
    "    print()\n"
   ]
  },
  {
   "cell_type": "code",
   "execution_count": null,
   "id": "122b97e7",
   "metadata": {},
   "outputs": [],
   "source": [
    "Explanation\n",
    "Distribution Analysis: Helps to understand where to set the power_threshold.\n",
    "Parameter Adjustment: Adjusts the window_size and power_threshold to better capture outages.\n",
    "By analyzing the distribution and adjusting parameters, you can refine the outage detection. If further adjustments are needed, you can iteratively tweak the parameters until the results align with expected behavior. Let me know if you need more guidance or specific adjustments!"
   ]
  },
  {
   "cell_type": "code",
   "execution_count": null,
   "id": "b1a670bd",
   "metadata": {},
   "outputs": [],
   "source": []
  },
  {
   "cell_type": "code",
   "execution_count": null,
   "id": "e1330df8",
   "metadata": {},
   "outputs": [],
   "source": [
    "Final Check on Parameters\n",
    "Review Distribution: Ensure the chosen threshold is appropriate for each turbine.\n",
    "Consider Turbine-Specific Thresholds: If necessary, set different thresholds for each turbine based on their production power characteristics.\n",
    "Proceed if Parameters Seem Reasonable: If the current parameters seem reasonable after review, proceed with the analysis.\n",
    "Step 1: Review Distribution\n",
    "\n",
    "Let's review the distribution plots once more to ensure our threshold is suitable:"
   ]
  },
  {
   "cell_type": "code",
   "execution_count": 50,
   "id": "4714ccbe",
   "metadata": {},
   "outputs": [
    {
     "name": "stderr",
     "output_type": "stream",
     "text": [
      "/Users/arunpasricha/anaconda3/lib/python3.11/site-packages/seaborn/_oldcore.py:1119: FutureWarning: use_inf_as_na option is deprecated and will be removed in a future version. Convert inf values to NaN before operating instead.\n",
      "  with pd.option_context('mode.use_inf_as_na', True):\n"
     ]
    },
    {
     "data": {
      "image/png": "[encoded data removed]",
      "text/plain": [
       "<Figure size 1200x600 with 1 Axes>"
      ]
     },
     "metadata": {},
     "output_type": "display_data"
    },
    {
     "name": "stderr",
     "output_type": "stream",
     "text": [
      "/Users/arunpasricha/anaconda3/lib/python3.11/site-packages/seaborn/_oldcore.py:1119: FutureWarning: use_inf_as_na option is deprecated and will be removed in a future version. Convert inf values to NaN before operating instead.\n",
      "  with pd.option_context('mode.use_inf_as_na', True):\n"
     ]
    },
    {
     "data": {
      "image/png": "[encoded data removed]",
      "text/plain": [
       "<Figure size 1200x600 with 1 Axes>"
      ]
     },
     "metadata": {},
     "output_type": "display_data"
    },
    {
     "name": "stderr",
     "output_type": "stream",
     "text": [
      "/Users/arunpasricha/anaconda3/lib/python3.11/site-packages/seaborn/_oldcore.py:1119: FutureWarning: use_inf_as_na option is deprecated and will be removed in a future version. Convert inf values to NaN before operating instead.\n",
      "  with pd.option_context('mode.use_inf_as_na', True):\n"
     ]
    },
    {
     "data": {
      "image/png": "[encoded data removed]",
      "text/plain": [
       "<Figure size 1200x600 with 1 Axes>"
      ]
     },
     "metadata": {},
     "output_type": "display_data"
    },
    {
     "name": "stderr",
     "output_type": "stream",
     "text": [
      "/Users/arunpasricha/anaconda3/lib/python3.11/site-packages/seaborn/_oldcore.py:1119: FutureWarning: use_inf_as_na option is deprecated and will be removed in a future version. Convert inf values to NaN before operating instead.\n",
      "  with pd.option_context('mode.use_inf_as_na', True):\n"
     ]
    },
    {
     "data": {
      "image/png": "[encoded data removed]",
      "text/plain": [
       "<Figure size 1200x600 with 1 Axes>"
      ]
     },
     "metadata": {},
     "output_type": "display_data"
    }
   ],
   "source": [
    "import seaborn as sns\n",
    "import matplotlib.pyplot as plt\n",
    "\n",
    "# Plot the distribution of Prod_LatestAvg_TotActPwr for each turbine\n",
    "for turbine_id in turbine_ids:\n",
    "    plt.figure(figsize=(12, 6))\n",
    "    sns.histplot(combined_data[turbine_id]['Prod_LatestAvg_TotActPwr'], bins=50, kde=True)\n",
    "    plt.xlabel('Prod_LatestAvg_TotActPwr')\n",
    "    plt.ylabel('Frequency')\n",
    "    plt.title(f'Distribution of Production Power for Turbine {turbine_id}')\n",
    "    plt.show()\n"
   ]
  },
  {
   "cell_type": "markdown",
   "id": "ff6f796d",
   "metadata": {},
   "source": [
    "Step 2: Consider Turbine-Specific Thresholds\n",
    "\n",
    "If necessary, adjust the threshold based on the distribution for each turbine. Here’s an example of how you might do that:"
   ]
  },
  {
   "cell_type": "code",
   "execution_count": null,
   "id": "d84a9f05",
   "metadata": {},
   "outputs": [],
   "source": [
    "def identify_outages(data, window_size=30, power_thresholds=None):\n",
    "    if power_thresholds is None:\n",
    "        power_thresholds = {turbine: 500 for turbine in data.keys()}\n",
    "        \n",
    "    for turbine in data.keys():\n",
    "        df = data[turbine]\n",
    "        power_threshold = power_thresholds.get(turbine, 500)\n",
    "        \n",
    "        # Identify outage points\n",
    "        df['is_outage'] = (df['Prod_LatestAvg_TotActPwr'] < power_threshold) & \\\n",
    "                          (df['Prod_LatestAvg_TotActPwr'].rolling(window=window_size, center=True).apply(lambda x: x.min() == x[window_size // 2], raw=True))\n",
    "\n",
    "        # Fill NaN values in 'is_outage' with False\n",
    "        df['is_outage'].fillna(False, inplace=True)\n",
    "\n",
    "        # Remove short outages by considering consecutive points\n",
    "        df['is_outage'] = df['is_outage'] & (df['is_outage'].rolling(window=3, min_periods=1).sum() >= 2)\n",
    "        \n",
    "        # Create RUL labels\n",
    "        df['RUL'] = np.nan\n",
    "        last_outage_index = None\n",
    "        for i in range(len(df) - 1, -1, -1):\n",
    "            if df['is_outage'].iloc[i]:\n",
    "                last_outage_index = i\n",
    "            if last_outage_index is not None:\n",
    "                df['RUL'].iloc[i] = last_outage_index - i\n",
    "\n",
    "        # Fill remaining NaN values in 'RUL' with a large number (assuming they are far from an outage)\n",
    "        df['RUL'].fillna(len(df), inplace=True)\n",
    "        \n",
    "        data[turbine] = df  # Update the data dictionary with the new columns\n",
    "\n",
    "# Example of setting different thresholds\n",
    "power_thresholds = {\n",
    "    'T06': 1000,\n",
    "    'T07': 1000,\n",
    "    'T01': 500,\n",
    "    'T11': 500\n",
    "}\n",
    "\n",
    "# Identify outages and create RUL labels for the combined data with turbine-specific thresholds\n",
    "identify_outages(combined_data, window_size=30, power_thresholds=power_thresholds)\n"
   ]
  },
  {
   "cell_type": "markdown",
   "id": "3717bde7",
   "metadata": {},
   "source": [
    "Step 3: Re-evaluate Outages\n",
    "\n",
    "Re-run the outage detection and review the results. If still no outages are detected for Turbine T11, it may indicate that there genuinely were no significant outages in the data provided for that turbine.\n",
    "\n",
    "Proceeding\n",
    "If the final check and adjustments seem reasonable, we can proceed with the analysis:\n",
    "\n",
    "Identify Patterns: Look for patterns in the RUL data to predict maintenance needs.\n",
    "Optimization: Develop a maintenance scheduling algorithm.\n",
    "Let’s go ahead with plotting and comparing RUL for all turbines:\n",
    "\n",
    "python\n"
   ]
  },
  {
   "cell_type": "code",
   "execution_count": null,
   "id": "895a0c26",
   "metadata": {},
   "outputs": [],
   "source": [
    "# Plot and compare RUL for all turbines\n",
    "plt.figure(figsize=(12, 6))\n",
    "for turbine_id in turbine_ids:\n",
    "    plt.plot(combined_data[turbine_id]['Timestamp'], combined_data[turbine_id]['RUL'], label=f'Turbine {turbine_id}')\n",
    "plt.xlabel('Timestamp')\n",
    "plt.ylabel('RUL')\n",
    "plt.title('RUL Comparison for All Turbines')\n",
    "plt.legend()\n",
    "plt.show()\n",
    "\n",
    "# Print outage points for all turbines with adjusted parameters\n",
    "for turbine_id in turbine_ids:\n",
    "    print(f\"Outages for Turbine {turbine_id}:\")\n",
    "    print(combined_data[turbine_id][combined_data[turbine_id]['is_outage'] == True][['Timestamp', 'Prod_LatestAvg_TotActPwr', 'is_outage', 'RUL']])\n",
    "    print()\n"
   ]
  },
  {
   "cell_type": "code",
   "execution_count": null,
   "id": "b7d4c7c6",
   "metadata": {},
   "outputs": [],
   "source": [
    "# Plot and compare RUL for all turbines\n",
    "plt.figure(figsize=(12, 6))\n",
    "for turbine_id in turbine_ids:\n",
    "    plt.plot(combined_data[turbine_id]['Timestamp'], combined_data[turbine_id]['RUL'], label=f'Turbine {turbine_id}')\n",
    "plt.xlabel('Timestamp')\n",
    "plt.ylabel('RUL')\n",
    "plt.title('RUL Comparison for All Turbines')\n",
    "plt.legend()\n",
    "plt.show()\n",
    "\n",
    "# Print outage points for all turbines with adjusted parameters\n",
    "for turbine_id in turbine_ids:\n",
    "    print(f\"Outages for Turbine {turbine_id}:\")\n",
    "    print(combined_data[turbine_id][combined_data[turbine_id]['is_outage'] == True][['Timestamp', 'Prod_LatestAvg_TotActPwr', 'is_outage', 'RUL']])\n",
    "    print()\n"
   ]
  },
  {
   "cell_type": "code",
   "execution_count": null,
   "id": "bc62bf8a",
   "metadata": {},
   "outputs": [],
   "source": []
  },
  {
   "cell_type": "markdown",
   "id": "b6727346",
   "metadata": {},
   "source": [
    "Great! Now that we have identified the outage points and created RUL labels for each turbine, let's proceed with the following steps:\n",
    "\n",
    "Predict Maintenance Needs: Train a predictive model to estimate the Remaining Useful Life (RUL) of each part.\n",
    "Optimize Maintenance Scheduling: Develop a strategy to optimize maintenance scheduling to minimize turbine downtime.\n",
    "Step 1: Predict Maintenance Needs\n",
    "Feature Engineering\n",
    "\n",
    "Let's start by creating features from the data that will be useful for predicting RUL. These features can include rolling means, standard deviations, and lagged values of important columns."
   ]
  },
  {
   "cell_type": "code",
   "execution_count": null,
   "id": "099f3a18",
   "metadata": {},
   "outputs": [],
   "source": [
    "import numpy as np\n",
    "\n",
    "def add_features(df):\n",
    "    # Add rolling statistics\n",
    "    df['Gen_RPM_Avg_RollingMean'] = df['Gen_RPM_Avg'].rolling(window=10).mean()\n",
    "    df['Gen_RPM_Avg_RollingStd'] = df['Gen_RPM_Avg'].rolling(window=10).std()\n",
    "    df['Gen_Bear_Temp_Avg_RollingMean'] = df['Gen_Bear_Temp_Avg'].rolling(window=10).mean()\n",
    "    df['Gen_Bear_Temp_Avg_RollingStd'] = df['Gen_Bear_Temp_Avg'].rolling(window=10).std()\n",
    "    \n",
    "    # Add lagged values\n",
    "    df['Gen_RPM_Avg_Lag1'] = df['Gen_RPM_Avg'].shift(1)\n",
    "    df['Gen_RPM_Avg_Lag2'] = df['Gen_RPM_Avg'].shift(2)\n",
    "    df['Gen_Bear_Temp_Avg_Lag1'] = df['Gen_Bear_Temp_Avg'].shift(1)\n",
    "    df['Gen_Bear_Temp_Avg_Lag2'] = df['Gen_Bear_Temp_Avg'].shift(2)\n",
    "    \n",
    "    # Drop rows with NaN values created by rolling and shifting\n",
    "    df.dropna(inplace=True)\n",
    "    return df\n",
    "\n",
    "# Apply feature engineering to each turbine's DataFrame\n",
    "for turbine_id in turbine_ids:\n",
    "    combined_data[turbine_id] = add_features(combined_data[turbine_id])\n",
    "\n",
    "# Display the first few rows of the DataFrame for one turbine to verify\n",
    "print(combined_data['T01'].head())\n"
   ]
  },
  {
   "cell_type": "markdown",
   "id": "83b1533d",
   "metadata": {},
   "source": [
    "Model Training\n",
    "\n",
    "Next, let's train a predictive model for RUL using the engineered features. We'll use a Random Forest Regressor as an example.\n",
    "\n"
   ]
  },
  {
   "cell_type": "code",
   "execution_count": null,
   "id": "ba9bedae",
   "metadata": {},
   "outputs": [],
   "source": [
    "from sklearn.model_selection import train_test_split\n",
    "from sklearn.ensemble import RandomForestRegressor\n",
    "from sklearn.metrics import mean_squared_error\n",
    "\n",
    "# Example feature and target for generator RUL prediction\n",
    "features = [\n",
    "    'Gen_RPM_Avg', 'Gen_RPM_Avg_RollingMean', 'Gen_RPM_Avg_RollingStd', \n",
    "    'Gen_RPM_Avg_Lag1', 'Gen_RPM_Avg_Lag2',\n",
    "    'Gen_Bear_Temp_Avg', 'Gen_Bear_Temp_Avg_RollingMean', \n",
    "    'Gen_Bear_Temp_Avg_RollingStd', 'Gen_Bear_Temp_Avg_Lag1', 'Gen_Bear_Temp_Avg_Lag2'\n",
    "]\n",
    "\n",
    "# Placeholder to store models for each turbine\n",
    "models = {}\n",
    "\n",
    "for turbine_id in turbine_ids:\n",
    "    df = combined_data[turbine_id]\n",
    "    \n",
    "    # Split the data into training and testing sets\n",
    "    X = df[features]\n",
    "    y = df['RUL']\n",
    "    X_train, X_test, y_train, y_test = train_test_split(X, y, test_size=0.2, random_state=42)\n",
    "    \n",
    "    # Train the model\n",
    "    model = RandomForestRegressor(n_estimators=100, random_state=42)\n",
    "    model.fit(X_train, y_train)\n",
    "    models[turbine_id] = model\n",
    "    \n",
    "    # Predict and evaluate\n",
    "    y_pred = model.predict(X_test)\n",
    "    mse = mean_squared_error(y_test, y_pred)\n",
    "    print(f\"Turbine {turbine_id} - Mean Squared Error: {mse}\")\n",
    "\n",
    "# Example of accessing a model for a specific turbine\n",
    "# model_T01 = models['T01']\n"
   ]
  },
  {
   "cell_type": "markdown",
   "id": "edfdbd82",
   "metadata": {},
   "source": [
    "Step 2: Optimize Maintenance Scheduling\n",
    "To optimize maintenance scheduling, we need to:\n",
    "\n",
    "Predict RUL for All Major Parts: Use the trained models to predict the RUL for each part.\n",
    "Determine Optimal Maintenance Time: Develop a strategy to minimize turbine downtime by clubbing maintenance for multiple parts.\n",
    "Here's an example approach to suggest maintenance scheduling:"
   ]
  },
  {
   "cell_type": "code",
   "execution_count": null,
   "id": "b60e8ef6",
   "metadata": {},
   "outputs": [],
   "source": [
    "import pandas as pd\n",
    "\n",
    "def predict_rul_for_all_parts(turbine_data, models, features):\n",
    "    predictions = {}\n",
    "    for turbine_id, model in models.items():\n",
    "        df = turbine_data[turbine_id]\n",
    "        X = df[features]\n",
    "        predictions[turbine_id] = model.predict(X)\n",
    "    return predictions\n",
    "\n",
    "# Predict RUL for all turbines\n",
    "rul_predictions = predict_rul_for_all_parts(combined_data, models, features)\n",
    "\n",
    "# Example function to suggest maintenance scheduling\n",
    "def suggest_maintenance_schedule(rul_predictions, threshold=200):\n",
    "    maintenance_schedule = []\n",
    "    for turbine_id, preds in rul_predictions.items():\n",
    "        df = combined_data[turbine_id]\n",
    "        df['Predicted_RUL'] = preds\n",
    "        maintenance_needed = df[df['Predicted_RUL'] <= threshold]\n",
    "        if not maintenance_needed.empty:\n",
    "            maintenance_schedule.append((turbine_id, maintenance_needed['Timestamp'].iloc[0]))\n",
    "    return maintenance_schedule\n",
    "\n",
    "# Suggest maintenance schedule\n",
    "maintenance_schedule = suggest_maintenance_schedule(rul_predictions)\n",
    "print(\"Maintenance Schedule:\")\n",
    "for turbine_id, timestamp in maintenance_schedule:\n",
    "    print(f\"Turbine {turbine_id} needs maintenance at {timestamp}\")\n"
   ]
  },
  {
   "cell_type": "code",
   "execution_count": null,
   "id": "1c11d54d",
   "metadata": {},
   "outputs": [],
   "source": [
    "Explanation\n",
    "Feature Engineering: Adding rolling means, standard deviations, and lagged values to create features.\n",
    "Model Training: Using a Random Forest Regressor to train a model to predict RUL.\n",
    "Predict RUL: Predicting RUL for each turbine and part.\n",
    "Maintenance Scheduling: Suggesting optimal maintenance times to minimize downtime by considering predicted RUL.\n",
    "You can adjust the parameters, features, and models as needed to refine the predictions and maintenance strategy. Let me know if you need further adjustments or specific enhancements!"
   ]
  },
  {
   "cell_type": "code",
   "execution_count": null,
   "id": "84def461",
   "metadata": {},
   "outputs": [],
   "source": []
  },
  {
   "cell_type": "markdown",
   "id": "e8fc7235",
   "metadata": {},
   "source": [
    "To extend the RUL predictions and maintenance scheduling for the next 5 years, we'll need to simulate future data. This involves:\n",
    "\n",
    "Generating Future Timestamps: Creating a time series for the next 5 years.\n",
    "Predicting Future Values: Using the trained models to predict future values of the relevant features.\n",
    "Using Predicted Features: Applying the trained models to these predicted values to estimate RUL and suggest maintenance schedules.\n",
    "Step 1: Generate Future Timestamps\n",
    "Let's create a time series for the next 5 years."
   ]
  },
  {
   "cell_type": "code",
   "execution_count": null,
   "id": "d8f6311d",
   "metadata": {},
   "outputs": [],
   "source": [
    "import pandas as pd\n",
    "\n",
    "# Generate future timestamps\n",
    "future_timestamps = pd.date_range(start='2018-01-01', end='2023-12-31', freq='10T')\n",
    "print(future_timestamps[:5])  # Display the first few timestamps\n"
   ]
  },
  {
   "cell_type": "markdown",
   "id": "927f2127",
   "metadata": {},
   "source": [
    "Step 2: Predict Future Values\n",
    "We need to predict future values for the features we used in our model. We'll assume some continuity in the trends of these features."
   ]
  },
  {
   "cell_type": "code",
   "execution_count": null,
   "id": "3cf92391",
   "metadata": {},
   "outputs": [],
   "source": [
    "def simulate_future_values(df, future_timestamps, features):\n",
    "    last_values = df.iloc[-1][features]\n",
    "    future_values = []\n",
    "\n",
    "    for _ in range(len(future_timestamps)):\n",
    "        next_values = last_values + np.random.normal(0, 0.01, len(features))  # Small random walk for simulation\n",
    "        future_values.append(next_values)\n",
    "        last_values = next_values\n",
    "    \n",
    "    future_df = pd.DataFrame(future_values, columns=features, index=future_timestamps)\n",
    "    return future_df\n",
    "\n",
    "# Simulate future values for each turbine\n",
    "future_data = {}\n",
    "\n",
    "for turbine_id in turbine_ids:\n",
    "    future_df = simulate_future_values(combined_data[turbine_id], future_timestamps, features)\n",
    "    future_data[turbine_id] = future_df\n",
    "\n",
    "# Display the first few rows of the simulated future data for one turbine to verify\n",
    "print(future_data['T01'].head())\n"
   ]
  },
  {
   "cell_type": "markdown",
   "id": "4e9cf335",
   "metadata": {},
   "source": [
    "Continuing with the Next Steps\n",
    "Step 3: Predict RUL for Future Data\n",
    "\n",
    "Using the trained models, predict the RUL for the future data."
   ]
  },
  {
   "cell_type": "code",
   "execution_count": 61,
   "id": "fc0078ff",
   "metadata": {},
   "outputs": [],
   "source": [
    "def predict_future_rul(future_data, models, features):\n",
    "    future_predictions = {}\n",
    "    for turbine_id, model in models.items():\n",
    "        df = future_data[turbine_id]\n",
    "        X = df[features]\n",
    "        future_predictions[turbine_id] = model.predict(X)\n",
    "    return future_predictions\n",
    "\n",
    "# Predict future RUL for all turbines\n",
    "future_rul_predictions = predict_future_rul(future_data, models, features)\n"
   ]
  },
  {
   "cell_type": "markdown",
   "id": "bfc19403",
   "metadata": {},
   "source": [
    "Step 4: Suggest Maintenance Schedule\n",
    "\n",
    "Suggest optimal maintenance times based on the predicted future RUL.\n",
    "\n"
   ]
  },
  {
   "cell_type": "code",
   "execution_count": null,
   "id": "bb2de023",
   "metadata": {},
   "outputs": [],
   "source": [
    "def suggest_future_maintenance_schedule(future_rul_predictions, threshold=200):\n",
    "    future_maintenance_schedule = []\n",
    "    for turbine_id, preds in future_rul_predictions.items():\n",
    "        df = future_data[turbine_id]\n",
    "        df['Predicted_RUL'] = preds\n",
    "        maintenance_needed = df[df['Predicted_RUL'] <= threshold]\n",
    "        if not maintenance_needed.empty:\n",
    "            future_maintenance_schedule.append((turbine_id, maintenance_needed.index[0]))\n",
    "    return future_maintenance_schedule\n",
    "\n",
    "# Suggest future maintenance schedule\n",
    "future_maintenance_schedule = suggest_future_maintenance_schedule(future_rul_predictions)\n",
    "print(\"Future Maintenance Schedule:\")\n",
    "for turbine_id, timestamp in future_maintenance_schedule:\n",
    "    print(\"1\")\n",
    "    print(f\"Turbine {turbine_id} needs maintenance at {timestamp}\")\n"
   ]
  },
  {
   "cell_type": "markdown",
   "id": "f4f55253",
   "metadata": {},
   "source": [
    "Step-by-Step Debugging and Adjustment\n",
    "Inspect Future RUL Predictions: Check the predicted RUL values to see if they are decreasing appropriately.\n",
    "Adjust Threshold: Adjust the threshold if necessary to capture maintenance needs within the 5-year period."
   ]
  },
  {
   "cell_type": "markdown",
   "id": "fc5d8c7f",
   "metadata": {},
   "source": [
    "Step 1: Inspect Future RUL Predictions"
   ]
  },
  {
   "cell_type": "code",
   "execution_count": null,
   "id": "07f445f3",
   "metadata": {},
   "outputs": [],
   "source": [
    "# Display the first few rows of future RUL predictions for each turbine to verify\n",
    "for turbine_id in turbine_ids:\n",
    "    print(f\"Future RUL Predictions for Turbine {turbine_id}:\")\n",
    "    print(future_data[turbine_id][['Predicted_RUL']].head())\n"
   ]
  },
  {
   "cell_type": "markdown",
   "id": "9b43bf0d",
   "metadata": {},
   "source": [
    "Step 2: Adjust Threshold\n",
    "If the RUL predictions are high and do not fall below the threshold, you may need to lower the threshold. Alternatively, you can adjust the simulation parameters to ensure the RUL decreases more rapidly."
   ]
  },
  {
   "cell_type": "code",
   "execution_count": 65,
   "id": "3089305f",
   "metadata": {},
   "outputs": [
    {
     "name": "stdout",
     "output_type": "stream",
     "text": [
      "Future Maintenance Schedule:\n"
     ]
    }
   ],
   "source": [
    "def suggest_future_maintenance_schedule(future_rul_predictions, threshold=500):  # Adjusted threshold\n",
    "    future_maintenance_schedule = []\n",
    "    for turbine_id, preds in future_rul_predictions.items():\n",
    "        df = future_data[turbine_id]\n",
    "        df['Predicted_RUL'] = preds\n",
    "        maintenance_needed = df[df['Predicted_RUL'] <= threshold]\n",
    "        if not maintenance_needed.empty:\n",
    "            future_maintenance_schedule.append((turbine_id, maintenance_needed.index[0]))\n",
    "    return future_maintenance_schedule\n",
    "\n",
    "# Suggest future maintenance schedule with adjusted threshold\n",
    "future_maintenance_schedule = suggest_future_maintenance_schedule(future_rul_predictions)\n",
    "print(\"Future Maintenance Schedule:\")\n",
    "for turbine_id, timestamp in future_maintenance_schedule:\n",
    "    print(f\"Turbine {turbine_id} needs maintenance at {timestamp}\")\n"
   ]
  },
  {
   "cell_type": "code",
   "execution_count": null,
   "id": "5ba1e678",
   "metadata": {},
   "outputs": [],
   "source": []
  },
  {
   "cell_type": "code",
   "execution_count": null,
   "id": "8e8b18f8",
   "metadata": {},
   "outputs": [],
   "source": [
    "# Step 1: Generate Future Timestamps\n",
    "future_timestamps = pd.date_range(start='2018-01-01', end='2023-12-31', freq='10T')\n",
    "\n",
    "# Step 2: Simulate Future Values\n",
    "def simulate_future_values(df, future_timestamps, features):\n",
    "    last_values = df.iloc[-1][features]\n",
    "    future_values = []\n",
    "\n",
    "    for _ in range(len(future_timestamps)):\n",
    "        next_values = last_values + np.random.normal(0, 0.01, len(features))  # Small random walk for simulation\n",
    "        future_values.append(next_values)\n",
    "        last_values = next_values\n",
    "    \n",
    "    future_df = pd.DataFrame(future_values, columns=features, index=future_timestamps)\n",
    "    return future_df\n",
    "\n",
    "# Simulate future values for each turbine\n",
    "future_data = {}\n",
    "\n",
    "for turbine_id in turbine_ids:\n",
    "    future_df = simulate_future_values(combined_data[turbine_id], future_timestamps, features)\n",
    "    future_data[turbine_id] = future_df\n",
    "\n",
    "# Step 3: Predict Future RUL\n",
    "def predict_future_rul(future_data, models, features):\n",
    "    future_predictions = {}\n",
    "    for turbine_id, model in models.items():\n",
    "        df = future_data[turbine_id]\n",
    "        X = df[features]\n",
    "        future_predictions[turbine_id] = model.predict(X)\n",
    "    return future_predictions\n",
    "\n",
    "# Predict future RUL for all turbines\n",
    "future_rul_predictions = predict_future_rul(future_data, models, features)\n",
    "\n",
    "# Step 4: Inspect Future RUL Predictions\n",
    "for turbine_id in turbine_ids:\n",
    "    print(f\"Future RUL Predictions for Turbine {turbine_id}:\")\n",
    "    print(future_data[turbine_id].head())\n",
    "\n",
    "# Step 5: Suggest Maintenance Schedule\n",
    "def suggest_future_maintenance_schedule(future_rul_predictions, threshold=500):  # Adjusted threshold\n",
    "    future_maintenance_schedule = []\n",
    "    for turbine_id, preds in future_rul_predictions.items():\n",
    "        df = future_data[turbine_id]\n",
    "        df['Predicted_RUL'] = preds\n",
    "        maintenance_needed = df[df['Predicted_RUL'] <= threshold]\n",
    "        if not maintenance_needed.empty:\n",
    "            future_maintenance_schedule.append((turbine_id, maintenance_needed.index[0]))\n",
    "    return future_maintenance_schedule\n",
    "\n",
    "# Suggest future maintenance schedule with adjusted threshold\n",
    "future_maintenance_schedule = suggest_future_maintenance_schedule(future_rul_predictions)\n",
    "print(\"Future Maintenance Schedule:\")\n",
    "for turbine_id, timestamp in future_maintenance_schedule:\n",
    "    print(f\"Turbine {turbine_id} needs maintenance at {timestamp}\")\n",
    "\n",
    "    "
   ]
  },
  {
   "cell_type": "code",
   "execution_count": null,
   "id": "093aceb0",
   "metadata": {},
   "outputs": [],
   "source": []
  },
  {
   "cell_type": "code",
   "execution_count": null,
   "id": "bc345b9f",
   "metadata": {},
   "outputs": [],
   "source": [
    "# Display the first few rows of the simulated future data for one turbine to verify\n",
    "for turbine_id in turbine_ids:\n",
    "    print(f\"Simulated future data for Turbine {turbine_id}:\")\n",
    "    print(future_data[turbine_id].head())\n"
   ]
  },
  {
   "cell_type": "code",
   "execution_count": null,
   "id": "d968fa59",
   "metadata": {},
   "outputs": [],
   "source": [
    "# Display the first few rows of future RUL predictions for each turbine to verify\n",
    "for turbine_id in turbine_ids:\n",
    "    future_data[turbine_id]['Predicted_RUL'] = future_rul_predictions[turbine_id]\n",
    "    print(f\"Future RUL Predictions for Turbine {turbine_id}:\")\n",
    "    print(future_data[turbine_id][['Predicted_RUL']].head())\n"
   ]
  },
  {
   "cell_type": "code",
   "execution_count": null,
   "id": "1bb7f031",
   "metadata": {},
   "outputs": [],
   "source": [
    "import numpy as np\n",
    "\n",
    "def simulate_future_values(df, future_timestamps, features):\n",
    "    last_values = df.iloc[-1][features]\n",
    "    future_values = []\n",
    "\n",
    "    for _ in range(len(future_timestamps)):\n",
    "        next_values = last_values + np.random.normal(0, 0.1, len(features))  # Increase the magnitude of changes\n",
    "        future_values.append(next_values)\n",
    "        last_values = next_values\n",
    "    \n",
    "    future_df = pd.DataFrame(future_values, columns=features, index=future_timestamps)\n",
    "    return future_df\n",
    "\n",
    "# Simulate future values for each turbine\n",
    "future_data = {}\n",
    "\n",
    "for turbine_id in turbine_ids:\n",
    "    future_df = simulate_future_values(combined_data[turbine_id], future_timestamps, features)\n",
    "    future_data[turbine_id] = future_df\n",
    "\n",
    "# Predict future RUL for all turbines\n",
    "future_rul_predictions = predict_future_rul(future_data, models, features)\n",
    "\n",
    "# Inspect future RUL predictions\n",
    "for turbine_id in turbine_ids:\n",
    "    future_data[turbine_id]['Predicted_RUL'] = future_rul_predictions[turbine_id]\n",
    "    print(f\"Future RUL Predictions for Turbine {turbine_id}:\")\n",
    "    print(future_data[turbine_id][['Predicted_RUL']].head())\n",
    "\n",
    "# Suggest future maintenance schedule with adjusted threshold\n",
    "future_maintenance_schedule = suggest_future_maintenance_schedule(future_rul_predictions)\n",
    "print(\"Future Maintenance Schedule:\")\n",
    "for turbine_id, timestamp in future_maintenance_schedule:\n",
    "    print(f\"Turbine {turbine_id} needs maintenance at {timestamp}\")\n"
   ]
  },
  {
   "cell_type": "code",
   "execution_count": null,
   "id": "5487cc4f",
   "metadata": {},
   "outputs": [],
   "source": []
  },
  {
   "cell_type": "code",
   "execution_count": null,
   "id": "8c9297ae",
   "metadata": {},
   "outputs": [],
   "source": [
    "import numpy as np\n",
    "import pandas as pd\n",
    "import matplotlib.pyplot as plt\n",
    "import seaborn as sns\n",
    "from sklearn.model_selection import train_test_split\n",
    "from sklearn.ensemble import RandomForestRegressor\n",
    "from sklearn.metrics import mean_squared_error\n",
    "\n",
    "# Load the data from the Excel files\n",
    "file_path_2016 = 'Signals_2016.xlsx'\n",
    "file_path_2017 = 'Signals_2017.xlsx'\n",
    "\n",
    "data_2016 = pd.read_excel(file_path_2016, sheet_name='Signals_2016')\n",
    "data_2017 = pd.read_excel(file_path_2017, sheet_name='Signals_2017')\n",
    "\n",
    "# Convert 'Timestamp' to datetime\n",
    "data_2016['Timestamp'] = pd.to_datetime(data_2016['Timestamp'])\n",
    "data_2017['Timestamp'] = pd.to_datetime(data_2017['Timestamp'])\n",
    "\n",
    "# Extract unique turbine IDs\n",
    "turbine_ids = ['T06', 'T07', 'T01', 'T11']\n",
    "\n",
    "# Combine data for each turbine\n",
    "combined_data = {}\n",
    "for turbine_id in turbine_ids:\n",
    "    df_2016 = data_2016[data_2016['Turbine_ID'] == turbine_id].copy()\n",
    "    df_2017 = data_2017[data_2017['Turbine_ID'] == turbine_id].copy()\n",
    "    combined_df = pd.concat([df_2016, df_2017], ignore_index=True)\n",
    "    combined_data[turbine_id] = combined_df\n",
    "\n",
    "# Add feature engineering functions\n",
    "def add_features(df):\n",
    "    df['Gen_RPM_Avg_RollingMean'] = df['Gen_RPM_Avg'].rolling(window=10).mean()\n",
    "    df['Gen_RPM_Avg_RollingStd'] = df['Gen_RPM_Avg'].rolling(window=10).std()\n",
    "    df['Gen_Bear_Temp_Avg_RollingMean'] = df['Gen_Bear_Temp_Avg'].rolling(window=10).mean()\n",
    "    df['Gen_Bear_Temp_Avg_RollingStd'] = df['Gen_Bear_Temp_Avg'].rolling(window=10).std()\n",
    "    df['Gen_RPM_Avg_Lag1'] = df['Gen_RPM_Avg'].shift(1)\n",
    "    df['Gen_RPM_Avg_Lag2'] = df['Gen_RPM_Avg'].shift(2)\n",
    "    df['Gen_Bear_Temp_Avg_Lag1'] = df['Gen_Bear_Temp_Avg'].shift(1)\n",
    "    df['Gen_Bear_Temp_Avg_Lag2'] = df['Gen_Bear_Temp_Avg'].shift(2)\n",
    "    df.dropna(inplace=True)\n",
    "    return df\n",
    "\n",
    "# Apply feature engineering\n",
    "for turbine_id in turbine_ids:\n",
    "    combined_data[turbine_id] = add_features(combined_data[turbine_id])\n",
    "\n",
    "# Identify outages and create RUL labels\n",
    "def identify_outages(data, window_size=30, power_threshold=2000):\n",
    "    for turbine in data.keys():\n",
    "        df = data[turbine]\n",
    "        \n",
    "        # Identify outage points\n",
    "        df['is_outage'] = (df['Prod_LatestAvg_TotActPwr'] < power_threshold) & \\\n",
    "                          (df['Prod_LatestAvg_TotActPwr'].rolling(window=window_size, center=True).apply(lambda x: x.min() == x[window_size // 2], raw=True))\n",
    "\n",
    "        # Fill NaN values in 'is_outage' with False\n",
    "        df['is_outage'].fillna(False, inplace=True)\n",
    "\n",
    "        # Remove short outages by considering consecutive points\n",
    "        df['is_outage'] = df['is_outage'] & (df['is_outage'].rolling(window=3, min_periods=1).sum() >= 2)\n",
    "        \n",
    "        # Create RUL labels\n",
    "        df['RUL'] = np.nan\n",
    "        last_outage_index = None\n",
    "        for i in range(len(df) - 1, -1, -1):\n",
    "            if df['is_outage'].iloc[i]:\n",
    "                last_outage_index = i\n",
    "            if last_outage_index is not None:\n",
    "                df['RUL'].iloc[i] = last_outage_index - i\n",
    "\n",
    "        # Fill remaining NaN values in 'RUL' with a large number (assuming they are far from an outage)\n",
    "        df['RUL'].fillna(len(df), inplace=True)\n",
    "        \n",
    "        data[turbine] = df  # Update the data dictionary with the new columns\n",
    "\n",
    "# Identify outages and create RUL labels for the combined data\n",
    "identify_outages(combined_data)\n",
    "\n",
    "# Example features and target\n",
    "features = [\n",
    "    'Gen_RPM_Avg', 'Gen_RPM_Avg_RollingMean', 'Gen_RPM_Avg_RollingStd', \n",
    "    'Gen_RPM_Avg_Lag1', 'Gen_RPM_Avg_Lag2',\n",
    "    'Gen_Bear_Temp_Avg', 'Gen_Bear_Temp_Avg_RollingMean', \n",
    "    'Gen_Bear_Temp_Avg_RollingStd', 'Gen_Bear_Temp_Avg_Lag1', 'Gen_Bear_Temp_Avg_Lag2'\n",
    "]\n",
    "\n",
    "# Train models\n",
    "models = {}\n",
    "for turbine_id in turbine_ids:\n",
    "    df = combined_data[turbine_id]\n",
    "    X = df[features]\n",
    "    y = df['RUL']\n",
    "    X_train, X_test, y_train, y_test = train_test_split(X, y, test_size=0.2, random_state=42)\n",
    "    model = RandomForestRegressor(n_estimators=100, random_state=42)\n",
    "    model.fit(X_train, y_train)\n",
    "    models[turbine_id] = model\n",
    "    y_pred = model.predict(X_test)\n",
    "    mse = mean_squared_error(y_test, y_pred)\n",
    "    print(f\"Turbine {turbine_id} - Mean Squared Error: {mse}\")\n",
    "\n",
    "# Generate future timestamps\n",
    "future_timestamps = pd.date_range(start='2018-01-01', end='2025-12-31', freq='10T')\n",
    "\n",
    "# Simulate future values with larger changes\n",
    "def simulate_future_values(df, future_timestamps, features):\n",
    "    last_values = df.iloc[-1][features]\n",
    "    future_values = []\n",
    "\n",
    "    for _ in range(len(future_timestamps)):\n",
    "        next_values = last_values + np.random.normal(0, 1, len(features))  # Significantly larger changes\n",
    "        future_values.append(next_values)\n",
    "        last_values = next_values\n",
    "    \n",
    "    future_df = pd.DataFrame(future_values, columns=features, index=future_timestamps)\n",
    "    return future_df\n",
    "\n",
    "# Simulate future values for each turbine\n",
    "future_data = {}\n",
    "for turbine_id in turbine_ids:\n",
    "    future_df = simulate_future_values(combined_data[turbine_id], future_timestamps, features)\n",
    "    future_data[turbine_id] = future_df\n",
    "\n",
    "# Predict future RUL for all turbines\n",
    "def predict_future_rul(future_data, models, features):\n",
    "    future_predictions = {}\n",
    "    for turbine_id, model in models.items():\n",
    "        df = future_data[turbine_id]\n",
    "        X = df[features]\n",
    "        future_predictions[turbine_id] = model.predict(X)\n",
    "    return future_predictions\n",
    "\n",
    "# Predict future RUL for all turbines\n",
    "future_rul_predictions = predict_future_rul(future_data, models, features)\n",
    "\n",
    "# Inspect future RUL predictions\n",
    "for turbine_id in turbine_ids:\n",
    "    future_data[turbine_id]['Predicted_RUL'] = future_rul_predictions[turbine_id]\n",
    "    print(f\"Future RUL Predictions for Turbine {turbine_id}:\")\n",
    "    print(future_data[turbine_id][['Predicted_RUL']].head())\n",
    "\n",
    "# Suggest future maintenance schedule with adjusted threshold\n",
    "def suggest_future_maintenance_schedule(future_rul_predictions, threshold=2000):\n",
    "    future_maintenance_schedule = []\n",
    "    for turbine_id, preds in future_rul_predictions.items():\n",
    "        df = future_data[turbine_id]\n",
    "        df['Predicted_RUL'] = preds\n",
    "        maintenance_needed = df[df['Predicted_RUL'] <= threshold]\n",
    "        if not maintenance_needed.empty:\n",
    "            future_maintenance_schedule.append((turbine_id, maintenance_needed.index[0]))\n",
    "    return future_maintenance_schedule\n",
    "\n",
    "# Suggest future maintenance schedule\n",
    "future_maintenance_schedule = suggest_future_maintenance_schedule(future_rul_predictions)\n",
    "print(\"Future Maintenance Schedule:\")\n",
    "for turbine_id, timestamp in future_maintenance_schedule:\n",
    "    print(f\"Turbine {turbine_id} needs maintenance at {timestamp}\")\n"
   ]
  },
  {
   "cell_type": "code",
   "execution_count": null,
   "id": "e50441be",
   "metadata": {},
   "outputs": [],
   "source": [
    "# Inspect future RUL predictions\n",
    "for turbine_id in turbine_ids:\n",
    "    future_data[turbine_id]['Predicted_RUL'] = future_rul_predictions[turbine_id]\n",
    "    print(f\"Future RUL Predictions for Turbine {turbine_id}:\")\n",
    "    print(future_data[turbine_id][['Predicted_RUL']])"
   ]
  },
  {
   "cell_type": "code",
   "execution_count": null,
   "id": "90325ea4",
   "metadata": {},
   "outputs": [],
   "source": []
  },
  {
   "cell_type": "code",
   "execution_count": null,
   "id": "6dd618d8",
   "metadata": {},
   "outputs": [],
   "source": []
  }
 ],
 "metadata": {
  "kernelspec": {
   "display_name": "Python 3 (ipykernel)",
   "language": "python",
   "name": "python3"
  },
  "language_info": {
   "codemirror_mode": {
    "name": "ipython",
    "version": 3
   },
   "file_extension": ".py",
   "mimetype": "text/x-python",
   "name": "python",
   "nbconvert_exporter": "python",
   "pygments_lexer": "ipython3",
   "version": "3.11.5"
  }
 },
 "nbformat": 4,
 "nbformat_minor": 5
}
